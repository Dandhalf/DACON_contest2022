{
  "nbformat": 4,
  "nbformat_minor": 0,
  "metadata": {
    "colab": {
      "name": "데이콘_소비 예측 경진대회 2022.ipynb",
      "provenance": [],
      "mount_file_id": "1tvbkeN10rGXt05IGjUQvVTDy1GI0QVFK",
      "authorship_tag": "ABX9TyPNLykU9m4VYYoZb0gL/WGA",
      "include_colab_link": true
    },
    "kernelspec": {
      "name": "python3",
      "display_name": "Python 3"
    },
    "language_info": {
      "name": "python"
    }
  },
  "cells": [
    {
      "cell_type": "markdown",
      "metadata": {
        "id": "view-in-github",
        "colab_type": "text"
      },
      "source": [
        "<a href=\"https://colab.research.google.com/github/Dandhalf/DACON_contest2022/blob/main/%EB%8D%B0%EC%9D%B4%EC%BD%98_%EC%86%8C%EB%B9%84_%EC%98%88%EC%B8%A1_%EA%B2%BD%EC%A7%84%EB%8C%80%ED%9A%8C_2022.ipynb\" target=\"_parent\"><img src=\"https://colab.research.google.com/assets/colab-badge.svg\" alt=\"Open In Colab\"/></a>"
      ]
    },
    {
      "cell_type": "markdown",
      "source": [
        "## 해당 데이터에서 질문\n",
        "- 특성 값 중에 시간에 대한 컬럼이 있을 경우에는 어떻게 다룰 것인가?\n",
        "- 이번 대회에서는 예측값을 제출 해야함"
      ],
      "metadata": {
        "id": "yTUS5x3ZFagq"
      }
    },
    {
      "cell_type": "markdown",
      "source": [
        "# 00. 분석 준비하기\n",
        "## 00- 1 chage directory & zip 파일 압축해제"
      ],
      "metadata": {
        "id": "9Fr9HBZ2QTIv"
      }
    },
    {
      "cell_type": "code",
      "source": [
        "# from google.colab import drive\n",
        "# # drive.mount('/content/drive')"
      ],
      "metadata": {
        "id": "DSBq3gC0N62k"
      },
      "execution_count": null,
      "outputs": []
    },
    {
      "cell_type": "code",
      "execution_count": null,
      "metadata": {
        "colab": {
          "base_uri": "https://localhost:8080/"
        },
        "id": "0puHxol4NeCs",
        "outputId": "0edd1088-b102-4b67-bc4d-3ab60c6003bf"
      },
      "outputs": [
        {
          "output_type": "stream",
          "name": "stdout",
          "text": [
            "/content/drive/MyDrive/Colab Notebooks\n",
            "Archive:  소비 예측 경진대회-20220504T134719Z-001.zip\n",
            "  inflating: 소비 예측 경진대회/test.csv  \n",
            "  inflating: 소비 예측 경진대회/train.csv  \n",
            "  inflating: 소비 예측 경진대회/sample_submission.csv  \n"
          ]
        }
      ],
      "source": [
        "# %cd \"/content/drive/MyDrive/Colab Notebooks\"\n",
        "# !unzip \"소비 예측 경진대회-20220504T134719Z-001.zip\""
      ]
    },
    {
      "cell_type": "markdown",
      "source": [
        "## 00-2. 라이브러리 import"
      ],
      "metadata": {
        "id": "jyGKkom-OZte"
      }
    },
    {
      "cell_type": "code",
      "source": [
        "import pandas as pd\n",
        "import numpy as np\n",
        "import matplotlib.pyplot as plt\n",
        "import seaborn as sns"
      ],
      "metadata": {
        "id": "9qXANTr5OY0h"
      },
      "execution_count": null,
      "outputs": []
    },
    {
      "cell_type": "markdown",
      "source": [
        "## 00-3. 데이터불러오기"
      ],
      "metadata": {
        "id": "spvdLfBbRGVB"
      }
    },
    {
      "cell_type": "code",
      "source": [
        "df = pd.read_csv(\"/content/drive/MyDrive/Colab Notebooks/소비 예측 경진대회/train.csv\")"
      ],
      "metadata": {
        "id": "5IhaT6nCRH_X"
      },
      "execution_count": null,
      "outputs": []
    },
    {
      "cell_type": "markdown",
      "source": [
        "#01. 데이터 탐색하기"
      ],
      "metadata": {
        "id": "p7GuhG4jRJFZ"
      }
    },
    {
      "cell_type": "code",
      "source": [
        "df.head()"
      ],
      "metadata": {
        "colab": {
          "base_uri": "https://localhost:8080/",
          "height": 296
        },
        "id": "Y9nt2qJ2RLkr",
        "outputId": "9a79d030-36ad-4484-cb26-77e29bb5a5d3"
      },
      "execution_count": null,
      "outputs": [
        {
          "output_type": "execute_result",
          "data": {
            "text/plain": [
              "   id  Year_Birth   Education Marital_Status   Income  Kidhome  Teenhome  \\\n",
              "0   0        1974      Master       Together  46014.0        1         1   \n",
              "1   1        1962  Graduation         Single  76624.0        0         1   \n",
              "2   2        1951  Graduation        Married  75903.0        0         1   \n",
              "3   3        1974       Basic        Married  18393.0        1         0   \n",
              "4   4        1946         PhD       Together  64014.0        2         1   \n",
              "\n",
              "  Dt_Customer  Recency  NumDealsPurchases  ...  NumStorePurchases  \\\n",
              "0  21-01-2013       21                 10  ...                  8   \n",
              "1  24-05-2014       68                  1  ...                  7   \n",
              "2  08-04-2013       50                  2  ...                  9   \n",
              "3  29-03-2014        2                  2  ...                  3   \n",
              "4  10-06-2014       56                  7  ...                  5   \n",
              "\n",
              "   NumWebVisitsMonth  AcceptedCmp3  AcceptedCmp4  AcceptedCmp5  AcceptedCmp1  \\\n",
              "0                  7             0             0             0             0   \n",
              "1                  1             1             0             0             0   \n",
              "2                  3             0             0             0             0   \n",
              "3                  8             0             0             0             0   \n",
              "4                  7             0             0             0             1   \n",
              "\n",
              "   AcceptedCmp2  Complain  Response  target  \n",
              "0             0         0         0     541  \n",
              "1             0         0         0     899  \n",
              "2             0         0         0     901  \n",
              "3             0         0         0      50  \n",
              "4             0         0         0     444  \n",
              "\n",
              "[5 rows x 22 columns]"
            ],
            "text/html": [
              "\n",
              "  <div id=\"df-3829e833-e9bd-433f-897f-4150aeee1df0\">\n",
              "    <div class=\"colab-df-container\">\n",
              "      <div>\n",
              "<style scoped>\n",
              "    .dataframe tbody tr th:only-of-type {\n",
              "        vertical-align: middle;\n",
              "    }\n",
              "\n",
              "    .dataframe tbody tr th {\n",
              "        vertical-align: top;\n",
              "    }\n",
              "\n",
              "    .dataframe thead th {\n",
              "        text-align: right;\n",
              "    }\n",
              "</style>\n",
              "<table border=\"1\" class=\"dataframe\">\n",
              "  <thead>\n",
              "    <tr style=\"text-align: right;\">\n",
              "      <th></th>\n",
              "      <th>id</th>\n",
              "      <th>Year_Birth</th>\n",
              "      <th>Education</th>\n",
              "      <th>Marital_Status</th>\n",
              "      <th>Income</th>\n",
              "      <th>Kidhome</th>\n",
              "      <th>Teenhome</th>\n",
              "      <th>Dt_Customer</th>\n",
              "      <th>Recency</th>\n",
              "      <th>NumDealsPurchases</th>\n",
              "      <th>...</th>\n",
              "      <th>NumStorePurchases</th>\n",
              "      <th>NumWebVisitsMonth</th>\n",
              "      <th>AcceptedCmp3</th>\n",
              "      <th>AcceptedCmp4</th>\n",
              "      <th>AcceptedCmp5</th>\n",
              "      <th>AcceptedCmp1</th>\n",
              "      <th>AcceptedCmp2</th>\n",
              "      <th>Complain</th>\n",
              "      <th>Response</th>\n",
              "      <th>target</th>\n",
              "    </tr>\n",
              "  </thead>\n",
              "  <tbody>\n",
              "    <tr>\n",
              "      <th>0</th>\n",
              "      <td>0</td>\n",
              "      <td>1974</td>\n",
              "      <td>Master</td>\n",
              "      <td>Together</td>\n",
              "      <td>46014.0</td>\n",
              "      <td>1</td>\n",
              "      <td>1</td>\n",
              "      <td>21-01-2013</td>\n",
              "      <td>21</td>\n",
              "      <td>10</td>\n",
              "      <td>...</td>\n",
              "      <td>8</td>\n",
              "      <td>7</td>\n",
              "      <td>0</td>\n",
              "      <td>0</td>\n",
              "      <td>0</td>\n",
              "      <td>0</td>\n",
              "      <td>0</td>\n",
              "      <td>0</td>\n",
              "      <td>0</td>\n",
              "      <td>541</td>\n",
              "    </tr>\n",
              "    <tr>\n",
              "      <th>1</th>\n",
              "      <td>1</td>\n",
              "      <td>1962</td>\n",
              "      <td>Graduation</td>\n",
              "      <td>Single</td>\n",
              "      <td>76624.0</td>\n",
              "      <td>0</td>\n",
              "      <td>1</td>\n",
              "      <td>24-05-2014</td>\n",
              "      <td>68</td>\n",
              "      <td>1</td>\n",
              "      <td>...</td>\n",
              "      <td>7</td>\n",
              "      <td>1</td>\n",
              "      <td>1</td>\n",
              "      <td>0</td>\n",
              "      <td>0</td>\n",
              "      <td>0</td>\n",
              "      <td>0</td>\n",
              "      <td>0</td>\n",
              "      <td>0</td>\n",
              "      <td>899</td>\n",
              "    </tr>\n",
              "    <tr>\n",
              "      <th>2</th>\n",
              "      <td>2</td>\n",
              "      <td>1951</td>\n",
              "      <td>Graduation</td>\n",
              "      <td>Married</td>\n",
              "      <td>75903.0</td>\n",
              "      <td>0</td>\n",
              "      <td>1</td>\n",
              "      <td>08-04-2013</td>\n",
              "      <td>50</td>\n",
              "      <td>2</td>\n",
              "      <td>...</td>\n",
              "      <td>9</td>\n",
              "      <td>3</td>\n",
              "      <td>0</td>\n",
              "      <td>0</td>\n",
              "      <td>0</td>\n",
              "      <td>0</td>\n",
              "      <td>0</td>\n",
              "      <td>0</td>\n",
              "      <td>0</td>\n",
              "      <td>901</td>\n",
              "    </tr>\n",
              "    <tr>\n",
              "      <th>3</th>\n",
              "      <td>3</td>\n",
              "      <td>1974</td>\n",
              "      <td>Basic</td>\n",
              "      <td>Married</td>\n",
              "      <td>18393.0</td>\n",
              "      <td>1</td>\n",
              "      <td>0</td>\n",
              "      <td>29-03-2014</td>\n",
              "      <td>2</td>\n",
              "      <td>2</td>\n",
              "      <td>...</td>\n",
              "      <td>3</td>\n",
              "      <td>8</td>\n",
              "      <td>0</td>\n",
              "      <td>0</td>\n",
              "      <td>0</td>\n",
              "      <td>0</td>\n",
              "      <td>0</td>\n",
              "      <td>0</td>\n",
              "      <td>0</td>\n",
              "      <td>50</td>\n",
              "    </tr>\n",
              "    <tr>\n",
              "      <th>4</th>\n",
              "      <td>4</td>\n",
              "      <td>1946</td>\n",
              "      <td>PhD</td>\n",
              "      <td>Together</td>\n",
              "      <td>64014.0</td>\n",
              "      <td>2</td>\n",
              "      <td>1</td>\n",
              "      <td>10-06-2014</td>\n",
              "      <td>56</td>\n",
              "      <td>7</td>\n",
              "      <td>...</td>\n",
              "      <td>5</td>\n",
              "      <td>7</td>\n",
              "      <td>0</td>\n",
              "      <td>0</td>\n",
              "      <td>0</td>\n",
              "      <td>1</td>\n",
              "      <td>0</td>\n",
              "      <td>0</td>\n",
              "      <td>0</td>\n",
              "      <td>444</td>\n",
              "    </tr>\n",
              "  </tbody>\n",
              "</table>\n",
              "<p>5 rows × 22 columns</p>\n",
              "</div>\n",
              "      <button class=\"colab-df-convert\" onclick=\"convertToInteractive('df-3829e833-e9bd-433f-897f-4150aeee1df0')\"\n",
              "              title=\"Convert this dataframe to an interactive table.\"\n",
              "              style=\"display:none;\">\n",
              "        \n",
              "  <svg xmlns=\"http://www.w3.org/2000/svg\" height=\"24px\"viewBox=\"0 0 24 24\"\n",
              "       width=\"24px\">\n",
              "    <path d=\"M0 0h24v24H0V0z\" fill=\"none\"/>\n",
              "    <path d=\"M18.56 5.44l.94 2.06.94-2.06 2.06-.94-2.06-.94-.94-2.06-.94 2.06-2.06.94zm-11 1L8.5 8.5l.94-2.06 2.06-.94-2.06-.94L8.5 2.5l-.94 2.06-2.06.94zm10 10l.94 2.06.94-2.06 2.06-.94-2.06-.94-.94-2.06-.94 2.06-2.06.94z\"/><path d=\"M17.41 7.96l-1.37-1.37c-.4-.4-.92-.59-1.43-.59-.52 0-1.04.2-1.43.59L10.3 9.45l-7.72 7.72c-.78.78-.78 2.05 0 2.83L4 21.41c.39.39.9.59 1.41.59.51 0 1.02-.2 1.41-.59l7.78-7.78 2.81-2.81c.8-.78.8-2.07 0-2.86zM5.41 20L4 18.59l7.72-7.72 1.47 1.35L5.41 20z\"/>\n",
              "  </svg>\n",
              "      </button>\n",
              "      \n",
              "  <style>\n",
              "    .colab-df-container {\n",
              "      display:flex;\n",
              "      flex-wrap:wrap;\n",
              "      gap: 12px;\n",
              "    }\n",
              "\n",
              "    .colab-df-convert {\n",
              "      background-color: #E8F0FE;\n",
              "      border: none;\n",
              "      border-radius: 50%;\n",
              "      cursor: pointer;\n",
              "      display: none;\n",
              "      fill: #1967D2;\n",
              "      height: 32px;\n",
              "      padding: 0 0 0 0;\n",
              "      width: 32px;\n",
              "    }\n",
              "\n",
              "    .colab-df-convert:hover {\n",
              "      background-color: #E2EBFA;\n",
              "      box-shadow: 0px 1px 2px rgba(60, 64, 67, 0.3), 0px 1px 3px 1px rgba(60, 64, 67, 0.15);\n",
              "      fill: #174EA6;\n",
              "    }\n",
              "\n",
              "    [theme=dark] .colab-df-convert {\n",
              "      background-color: #3B4455;\n",
              "      fill: #D2E3FC;\n",
              "    }\n",
              "\n",
              "    [theme=dark] .colab-df-convert:hover {\n",
              "      background-color: #434B5C;\n",
              "      box-shadow: 0px 1px 3px 1px rgba(0, 0, 0, 0.15);\n",
              "      filter: drop-shadow(0px 1px 2px rgba(0, 0, 0, 0.3));\n",
              "      fill: #FFFFFF;\n",
              "    }\n",
              "  </style>\n",
              "\n",
              "      <script>\n",
              "        const buttonEl =\n",
              "          document.querySelector('#df-3829e833-e9bd-433f-897f-4150aeee1df0 button.colab-df-convert');\n",
              "        buttonEl.style.display =\n",
              "          google.colab.kernel.accessAllowed ? 'block' : 'none';\n",
              "\n",
              "        async function convertToInteractive(key) {\n",
              "          const element = document.querySelector('#df-3829e833-e9bd-433f-897f-4150aeee1df0');\n",
              "          const dataTable =\n",
              "            await google.colab.kernel.invokeFunction('convertToInteractive',\n",
              "                                                     [key], {});\n",
              "          if (!dataTable) return;\n",
              "\n",
              "          const docLinkHtml = 'Like what you see? Visit the ' +\n",
              "            '<a target=\"_blank\" href=https://colab.research.google.com/notebooks/data_table.ipynb>data table notebook</a>'\n",
              "            + ' to learn more about interactive tables.';\n",
              "          element.innerHTML = '';\n",
              "          dataTable['output_type'] = 'display_data';\n",
              "          await google.colab.output.renderOutput(dataTable, element);\n",
              "          const docLink = document.createElement('div');\n",
              "          docLink.innerHTML = docLinkHtml;\n",
              "          element.appendChild(docLink);\n",
              "        }\n",
              "      </script>\n",
              "    </div>\n",
              "  </div>\n",
              "  "
            ]
          },
          "metadata": {},
          "execution_count": 19
        }
      ]
    },
    {
      "cell_type": "markdown",
      "source": [
        "- ... 으로 볼 수 있는 columns의 수가 제한되어 있음으로 전체 볼 수 있도록 아래 코드를 돌려주자"
      ],
      "metadata": {
        "id": "8bbqfUZSF5hg"
      }
    },
    {
      "cell_type": "code",
      "source": [
        "pd.set_option('display.max_columns', 50) # 'columns 50개 까지 보여줘' 라는 뜻"
      ],
      "metadata": {
        "id": "DgdDdjjqGC9e"
      },
      "execution_count": null,
      "outputs": []
    },
    {
      "cell_type": "code",
      "source": [
        "df.tail(3)"
      ],
      "metadata": {
        "colab": {
          "base_uri": "https://localhost:8080/",
          "height": 206
        },
        "id": "nfidhsxbRsau",
        "outputId": "720c03c7-6e84-4f66-efa6-2547290a08ed"
      },
      "execution_count": null,
      "outputs": [
        {
          "output_type": "execute_result",
          "data": {
            "text/plain": [
              "        id  Year_Birth   Education Marital_Status   Income  Kidhome  Teenhome  \\\n",
              "1105  1105        1975      Master        Married  37368.0        1         0   \n",
              "1106  1106        1974  Graduation       Divorced  53034.0        1         1   \n",
              "1107  1107        1952         PhD       Divorced  46610.0        0         2   \n",
              "\n",
              "     Dt_Customer  Recency  NumDealsPurchases  NumWebPurchases  \\\n",
              "1105  16-12-2013        4                  1                1   \n",
              "1106  30-05-2013       30                  8                6   \n",
              "1107  29-10-2012        8                  6                4   \n",
              "\n",
              "      NumCatalogPurchases  NumStorePurchases  NumWebVisitsMonth  AcceptedCmp3  \\\n",
              "1105                    0                  2                  6             1   \n",
              "1106                    1                  7                  8             0   \n",
              "1107                    1                  6                  6             0   \n",
              "\n",
              "      AcceptedCmp4  AcceptedCmp5  AcceptedCmp1  AcceptedCmp2  Complain  \\\n",
              "1105             0             0             0             0         0   \n",
              "1106             0             0             0             0         0   \n",
              "1107             0             0             0             0         0   \n",
              "\n",
              "      Response  target  \n",
              "1105         0      30  \n",
              "1106         0     447  \n",
              "1107         1     302  "
            ],
            "text/html": [
              "\n",
              "  <div id=\"df-be7638d5-3854-43cc-8158-48352696b58d\">\n",
              "    <div class=\"colab-df-container\">\n",
              "      <div>\n",
              "<style scoped>\n",
              "    .dataframe tbody tr th:only-of-type {\n",
              "        vertical-align: middle;\n",
              "    }\n",
              "\n",
              "    .dataframe tbody tr th {\n",
              "        vertical-align: top;\n",
              "    }\n",
              "\n",
              "    .dataframe thead th {\n",
              "        text-align: right;\n",
              "    }\n",
              "</style>\n",
              "<table border=\"1\" class=\"dataframe\">\n",
              "  <thead>\n",
              "    <tr style=\"text-align: right;\">\n",
              "      <th></th>\n",
              "      <th>id</th>\n",
              "      <th>Year_Birth</th>\n",
              "      <th>Education</th>\n",
              "      <th>Marital_Status</th>\n",
              "      <th>Income</th>\n",
              "      <th>Kidhome</th>\n",
              "      <th>Teenhome</th>\n",
              "      <th>Dt_Customer</th>\n",
              "      <th>Recency</th>\n",
              "      <th>NumDealsPurchases</th>\n",
              "      <th>NumWebPurchases</th>\n",
              "      <th>NumCatalogPurchases</th>\n",
              "      <th>NumStorePurchases</th>\n",
              "      <th>NumWebVisitsMonth</th>\n",
              "      <th>AcceptedCmp3</th>\n",
              "      <th>AcceptedCmp4</th>\n",
              "      <th>AcceptedCmp5</th>\n",
              "      <th>AcceptedCmp1</th>\n",
              "      <th>AcceptedCmp2</th>\n",
              "      <th>Complain</th>\n",
              "      <th>Response</th>\n",
              "      <th>target</th>\n",
              "    </tr>\n",
              "  </thead>\n",
              "  <tbody>\n",
              "    <tr>\n",
              "      <th>1105</th>\n",
              "      <td>1105</td>\n",
              "      <td>1975</td>\n",
              "      <td>Master</td>\n",
              "      <td>Married</td>\n",
              "      <td>37368.0</td>\n",
              "      <td>1</td>\n",
              "      <td>0</td>\n",
              "      <td>16-12-2013</td>\n",
              "      <td>4</td>\n",
              "      <td>1</td>\n",
              "      <td>1</td>\n",
              "      <td>0</td>\n",
              "      <td>2</td>\n",
              "      <td>6</td>\n",
              "      <td>1</td>\n",
              "      <td>0</td>\n",
              "      <td>0</td>\n",
              "      <td>0</td>\n",
              "      <td>0</td>\n",
              "      <td>0</td>\n",
              "      <td>0</td>\n",
              "      <td>30</td>\n",
              "    </tr>\n",
              "    <tr>\n",
              "      <th>1106</th>\n",
              "      <td>1106</td>\n",
              "      <td>1974</td>\n",
              "      <td>Graduation</td>\n",
              "      <td>Divorced</td>\n",
              "      <td>53034.0</td>\n",
              "      <td>1</td>\n",
              "      <td>1</td>\n",
              "      <td>30-05-2013</td>\n",
              "      <td>30</td>\n",
              "      <td>8</td>\n",
              "      <td>6</td>\n",
              "      <td>1</td>\n",
              "      <td>7</td>\n",
              "      <td>8</td>\n",
              "      <td>0</td>\n",
              "      <td>0</td>\n",
              "      <td>0</td>\n",
              "      <td>0</td>\n",
              "      <td>0</td>\n",
              "      <td>0</td>\n",
              "      <td>0</td>\n",
              "      <td>447</td>\n",
              "    </tr>\n",
              "    <tr>\n",
              "      <th>1107</th>\n",
              "      <td>1107</td>\n",
              "      <td>1952</td>\n",
              "      <td>PhD</td>\n",
              "      <td>Divorced</td>\n",
              "      <td>46610.0</td>\n",
              "      <td>0</td>\n",
              "      <td>2</td>\n",
              "      <td>29-10-2012</td>\n",
              "      <td>8</td>\n",
              "      <td>6</td>\n",
              "      <td>4</td>\n",
              "      <td>1</td>\n",
              "      <td>6</td>\n",
              "      <td>6</td>\n",
              "      <td>0</td>\n",
              "      <td>0</td>\n",
              "      <td>0</td>\n",
              "      <td>0</td>\n",
              "      <td>0</td>\n",
              "      <td>0</td>\n",
              "      <td>1</td>\n",
              "      <td>302</td>\n",
              "    </tr>\n",
              "  </tbody>\n",
              "</table>\n",
              "</div>\n",
              "      <button class=\"colab-df-convert\" onclick=\"convertToInteractive('df-be7638d5-3854-43cc-8158-48352696b58d')\"\n",
              "              title=\"Convert this dataframe to an interactive table.\"\n",
              "              style=\"display:none;\">\n",
              "        \n",
              "  <svg xmlns=\"http://www.w3.org/2000/svg\" height=\"24px\"viewBox=\"0 0 24 24\"\n",
              "       width=\"24px\">\n",
              "    <path d=\"M0 0h24v24H0V0z\" fill=\"none\"/>\n",
              "    <path d=\"M18.56 5.44l.94 2.06.94-2.06 2.06-.94-2.06-.94-.94-2.06-.94 2.06-2.06.94zm-11 1L8.5 8.5l.94-2.06 2.06-.94-2.06-.94L8.5 2.5l-.94 2.06-2.06.94zm10 10l.94 2.06.94-2.06 2.06-.94-2.06-.94-.94-2.06-.94 2.06-2.06.94z\"/><path d=\"M17.41 7.96l-1.37-1.37c-.4-.4-.92-.59-1.43-.59-.52 0-1.04.2-1.43.59L10.3 9.45l-7.72 7.72c-.78.78-.78 2.05 0 2.83L4 21.41c.39.39.9.59 1.41.59.51 0 1.02-.2 1.41-.59l7.78-7.78 2.81-2.81c.8-.78.8-2.07 0-2.86zM5.41 20L4 18.59l7.72-7.72 1.47 1.35L5.41 20z\"/>\n",
              "  </svg>\n",
              "      </button>\n",
              "      \n",
              "  <style>\n",
              "    .colab-df-container {\n",
              "      display:flex;\n",
              "      flex-wrap:wrap;\n",
              "      gap: 12px;\n",
              "    }\n",
              "\n",
              "    .colab-df-convert {\n",
              "      background-color: #E8F0FE;\n",
              "      border: none;\n",
              "      border-radius: 50%;\n",
              "      cursor: pointer;\n",
              "      display: none;\n",
              "      fill: #1967D2;\n",
              "      height: 32px;\n",
              "      padding: 0 0 0 0;\n",
              "      width: 32px;\n",
              "    }\n",
              "\n",
              "    .colab-df-convert:hover {\n",
              "      background-color: #E2EBFA;\n",
              "      box-shadow: 0px 1px 2px rgba(60, 64, 67, 0.3), 0px 1px 3px 1px rgba(60, 64, 67, 0.15);\n",
              "      fill: #174EA6;\n",
              "    }\n",
              "\n",
              "    [theme=dark] .colab-df-convert {\n",
              "      background-color: #3B4455;\n",
              "      fill: #D2E3FC;\n",
              "    }\n",
              "\n",
              "    [theme=dark] .colab-df-convert:hover {\n",
              "      background-color: #434B5C;\n",
              "      box-shadow: 0px 1px 3px 1px rgba(0, 0, 0, 0.15);\n",
              "      filter: drop-shadow(0px 1px 2px rgba(0, 0, 0, 0.3));\n",
              "      fill: #FFFFFF;\n",
              "    }\n",
              "  </style>\n",
              "\n",
              "      <script>\n",
              "        const buttonEl =\n",
              "          document.querySelector('#df-be7638d5-3854-43cc-8158-48352696b58d button.colab-df-convert');\n",
              "        buttonEl.style.display =\n",
              "          google.colab.kernel.accessAllowed ? 'block' : 'none';\n",
              "\n",
              "        async function convertToInteractive(key) {\n",
              "          const element = document.querySelector('#df-be7638d5-3854-43cc-8158-48352696b58d');\n",
              "          const dataTable =\n",
              "            await google.colab.kernel.invokeFunction('convertToInteractive',\n",
              "                                                     [key], {});\n",
              "          if (!dataTable) return;\n",
              "\n",
              "          const docLinkHtml = 'Like what you see? Visit the ' +\n",
              "            '<a target=\"_blank\" href=https://colab.research.google.com/notebooks/data_table.ipynb>data table notebook</a>'\n",
              "            + ' to learn more about interactive tables.';\n",
              "          element.innerHTML = '';\n",
              "          dataTable['output_type'] = 'display_data';\n",
              "          await google.colab.output.renderOutput(dataTable, element);\n",
              "          const docLink = document.createElement('div');\n",
              "          docLink.innerHTML = docLinkHtml;\n",
              "          element.appendChild(docLink);\n",
              "        }\n",
              "      </script>\n",
              "    </div>\n",
              "  </div>\n",
              "  "
            ]
          },
          "metadata": {},
          "execution_count": 6
        }
      ]
    },
    {
      "cell_type": "code",
      "source": [
        "df.shape"
      ],
      "metadata": {
        "colab": {
          "base_uri": "https://localhost:8080/"
        },
        "id": "R47ZzuJBRl4u",
        "outputId": "e4ffdddd-e9bf-4830-c4b2-b8da787caaa2"
      },
      "execution_count": null,
      "outputs": [
        {
          "output_type": "execute_result",
          "data": {
            "text/plain": [
              "(1108, 22)"
            ]
          },
          "metadata": {},
          "execution_count": 7
        }
      ]
    },
    {
      "cell_type": "markdown",
      "source": [
        "### 1108데이터는 17480 개체와 특성은 22개 가지고 있음."
      ],
      "metadata": {
        "id": "_OgK0vFsRqiP"
      }
    },
    {
      "cell_type": "code",
      "source": [
        "df['Education'].unique()"
      ],
      "metadata": {
        "colab": {
          "base_uri": "https://localhost:8080/"
        },
        "id": "xL2VWNj5TFLw",
        "outputId": "b134e228-92c4-4e40-f146-2dd196c1e668"
      },
      "execution_count": null,
      "outputs": [
        {
          "output_type": "execute_result",
          "data": {
            "text/plain": [
              "array(['Master', 'Graduation', 'Basic', 'PhD', '2n Cycle'], dtype=object)"
            ]
          },
          "metadata": {},
          "execution_count": 43
        }
      ]
    },
    {
      "cell_type": "code",
      "source": [
        "df.keys()"
      ],
      "metadata": {
        "colab": {
          "base_uri": "https://localhost:8080/"
        },
        "id": "n8K4KeJMRnqU",
        "outputId": "8eedab38-127e-426a-cb66-807f9365fe1c"
      },
      "execution_count": null,
      "outputs": [
        {
          "output_type": "execute_result",
          "data": {
            "text/plain": [
              "Index(['id', 'Year_Birth', 'Education', 'Marital_Status', 'Income', 'Kidhome',\n",
              "       'Teenhome', 'Dt_Customer', 'Recency', 'NumDealsPurchases',\n",
              "       'NumWebPurchases', 'NumCatalogPurchases', 'NumStorePurchases',\n",
              "       'NumWebVisitsMonth', 'AcceptedCmp3', 'AcceptedCmp4', 'AcceptedCmp5',\n",
              "       'AcceptedCmp1', 'AcceptedCmp2', 'Complain', 'Response', 'target'],\n",
              "      dtype='object')"
            ]
          },
          "metadata": {},
          "execution_count": 22
        }
      ]
    },
    {
      "cell_type": "code",
      "source": [
        "df.info()"
      ],
      "metadata": {
        "colab": {
          "base_uri": "https://localhost:8080/"
        },
        "id": "cT_b2z4xRpP3",
        "outputId": "6b2fefc9-71df-4c2f-a1df-95c9ce42bae8"
      },
      "execution_count": null,
      "outputs": [
        {
          "output_type": "stream",
          "name": "stdout",
          "text": [
            "<class 'pandas.core.frame.DataFrame'>\n",
            "RangeIndex: 1108 entries, 0 to 1107\n",
            "Data columns (total 22 columns):\n",
            " #   Column               Non-Null Count  Dtype  \n",
            "---  ------               --------------  -----  \n",
            " 0   id                   1108 non-null   int64  \n",
            " 1   Year_Birth           1108 non-null   int64  \n",
            " 2   Education            1108 non-null   object \n",
            " 3   Marital_Status       1108 non-null   object \n",
            " 4   Income               1108 non-null   float64\n",
            " 5   Kidhome              1108 non-null   int64  \n",
            " 6   Teenhome             1108 non-null   int64  \n",
            " 7   Dt_Customer          1108 non-null   object \n",
            " 8   Recency              1108 non-null   int64  \n",
            " 9   NumDealsPurchases    1108 non-null   int64  \n",
            " 10  NumWebPurchases      1108 non-null   int64  \n",
            " 11  NumCatalogPurchases  1108 non-null   int64  \n",
            " 12  NumStorePurchases    1108 non-null   int64  \n",
            " 13  NumWebVisitsMonth    1108 non-null   int64  \n",
            " 14  AcceptedCmp3         1108 non-null   int64  \n",
            " 15  AcceptedCmp4         1108 non-null   int64  \n",
            " 16  AcceptedCmp5         1108 non-null   int64  \n",
            " 17  AcceptedCmp1         1108 non-null   int64  \n",
            " 18  AcceptedCmp2         1108 non-null   int64  \n",
            " 19  Complain             1108 non-null   int64  \n",
            " 20  Response             1108 non-null   int64  \n",
            " 21  target               1108 non-null   int64  \n",
            "dtypes: float64(1), int64(18), object(3)\n",
            "memory usage: 190.6+ KB\n"
          ]
        }
      ]
    },
    {
      "cell_type": "markdown",
      "source": [
        "### 누락값을 확인했으나 없음\n",
        "### Education, Marital_Status, Dt_Customer : data type - object"
      ],
      "metadata": {
        "id": "-MzkEHB8SC6l"
      }
    },
    {
      "cell_type": "code",
      "source": [
        "df.isnull().sum()"
      ],
      "metadata": {
        "colab": {
          "base_uri": "https://localhost:8080/"
        },
        "id": "h1zM-IPzR-vo",
        "outputId": "1072fb78-08f0-4fb5-8f8c-96e6151d1426"
      },
      "execution_count": null,
      "outputs": [
        {
          "output_type": "execute_result",
          "data": {
            "text/plain": [
              "id                     0\n",
              "Year_Birth             0\n",
              "Education              0\n",
              "Marital_Status         0\n",
              "Income                 0\n",
              "Kidhome                0\n",
              "Teenhome               0\n",
              "Dt_Customer            0\n",
              "Recency                0\n",
              "NumDealsPurchases      0\n",
              "NumWebPurchases        0\n",
              "NumCatalogPurchases    0\n",
              "NumStorePurchases      0\n",
              "NumWebVisitsMonth      0\n",
              "AcceptedCmp3           0\n",
              "AcceptedCmp4           0\n",
              "AcceptedCmp5           0\n",
              "AcceptedCmp1           0\n",
              "AcceptedCmp2           0\n",
              "Complain               0\n",
              "Response               0\n",
              "target                 0\n",
              "dtype: int64"
            ]
          },
          "metadata": {},
          "execution_count": 24
        }
      ]
    },
    {
      "cell_type": "markdown",
      "source": [
        "## 추가부분 : 시간자료 'Dt_Customer' 컬럼 처리\n",
        "- 'Dt_Customer' 컬럼에서 year 정보만 따로 떼기"
      ],
      "metadata": {
        "id": "Noso25AdId16"
      }
    },
    {
      "cell_type": "code",
      "source": [
        "df['Dt_Customer']"
      ],
      "metadata": {
        "colab": {
          "base_uri": "https://localhost:8080/"
        },
        "id": "qpfASB7pIlE2",
        "outputId": "b1dbef9d-6c5e-4f18-fa72-39cec88f72d1"
      },
      "execution_count": null,
      "outputs": [
        {
          "output_type": "execute_result",
          "data": {
            "text/plain": [
              "0       21-01-2013\n",
              "1       24-05-2014\n",
              "2       08-04-2013\n",
              "3       29-03-2014\n",
              "4       10-06-2014\n",
              "           ...    \n",
              "1103    31-03-2013\n",
              "1104    21-10-2013\n",
              "1105    16-12-2013\n",
              "1106    30-05-2013\n",
              "1107    29-10-2012\n",
              "Name: Dt_Customer, Length: 1108, dtype: object"
            ]
          },
          "metadata": {},
          "execution_count": 9
        }
      ]
    },
    {
      "cell_type": "code",
      "source": [
        "df['Dt_Customer_year'] = pd.DatetimeIndex(df['Dt_Customer']).year\n",
        "df['Dt_Customer_year']"
      ],
      "metadata": {
        "colab": {
          "base_uri": "https://localhost:8080/"
        },
        "id": "-2vw6m1hIhAB",
        "outputId": "0dedeedf-bd32-45ef-a98c-d0512df5571e"
      },
      "execution_count": null,
      "outputs": [
        {
          "output_type": "execute_result",
          "data": {
            "text/plain": [
              "0       2013\n",
              "1       2014\n",
              "2       2013\n",
              "3       2014\n",
              "4       2014\n",
              "        ... \n",
              "1103    2013\n",
              "1104    2013\n",
              "1105    2013\n",
              "1106    2013\n",
              "1107    2012\n",
              "Name: Dt_Customer_year, Length: 1108, dtype: int64"
            ]
          },
          "metadata": {},
          "execution_count": 11
        }
      ]
    },
    {
      "cell_type": "markdown",
      "source": [
        "# 02 데이터 전처리\n",
        "## 02-1. X, y 나누기\n",
        "\n",
        "- target 제품 총 소비량 예측하는 것이 목표 "
      ],
      "metadata": {
        "id": "sa5jc10tSkDs"
      }
    },
    {
      "cell_type": "code",
      "source": [
        "X = df.drop([\"id\",\"Dt_Customer\",\"target\"], axis = 1)\n",
        "y = df[\"target\"]"
      ],
      "metadata": {
        "id": "Zg8VNdiVSW_K"
      },
      "execution_count": null,
      "outputs": []
    },
    {
      "cell_type": "code",
      "source": [
        "# # 연도와 관련 데이터 빼봄\n",
        "# X = df.drop([\"id\",\"Dt_Customer\",\"Dt_Customer_year\",\"target\"], axis = 1)\n",
        "# y = df[\"target\"]"
      ],
      "metadata": {
        "id": "1Jt07_8oWFnu"
      },
      "execution_count": null,
      "outputs": []
    },
    {
      "cell_type": "markdown",
      "source": [
        "## 02-2. data(X) 범주형 변수 가변수로 처리\n",
        "- X의 object data type 값들 pd.get_dummies로 더미변수로 변환\n",
        "\n",
        "### 질문\n",
        "- 시간 자료는 어떻게 처리하는 것이 좋은가? - 'Dt_Customer'"
      ],
      "metadata": {
        "id": "QqH9mejOZFjP"
      }
    },
    {
      "cell_type": "code",
      "source": [
        "X.keys()"
      ],
      "metadata": {
        "colab": {
          "base_uri": "https://localhost:8080/"
        },
        "id": "cWRtB2beIc_G",
        "outputId": "67eca2c7-8742-47dd-ff87-aa6f17d4cf73"
      },
      "execution_count": null,
      "outputs": [
        {
          "output_type": "execute_result",
          "data": {
            "text/plain": [
              "Index(['Year_Birth', 'Education', 'Marital_Status', 'Income', 'Kidhome',\n",
              "       'Teenhome', 'Recency', 'NumDealsPurchases', 'NumWebPurchases',\n",
              "       'NumCatalogPurchases', 'NumStorePurchases', 'NumWebVisitsMonth',\n",
              "       'AcceptedCmp3', 'AcceptedCmp4', 'AcceptedCmp5', 'AcceptedCmp1',\n",
              "       'AcceptedCmp2', 'Complain', 'Response', 'Dt_Customer_year'],\n",
              "      dtype='object')"
            ]
          },
          "metadata": {},
          "execution_count": 31
        }
      ]
    },
    {
      "cell_type": "code",
      "source": [
        "X = pd.get_dummies(X[['Year_Birth', 'Education', 'Marital_Status', 'Income', 'Kidhome',\n",
        "       'Teenhome', 'Recency', 'NumDealsPurchases',\n",
        "       'NumWebPurchases', 'NumCatalogPurchases', 'NumStorePurchases',\n",
        "       'NumWebVisitsMonth', 'AcceptedCmp3', 'AcceptedCmp4', 'AcceptedCmp5',\n",
        "       'AcceptedCmp1', 'AcceptedCmp2', 'Complain', 'Response', 'Dt_Customer_year']],\n",
        "       columns = ['Education', 'Marital_Status'], drop_first = True)"
      ],
      "metadata": {
        "id": "RqgHdmjmUAjg"
      },
      "execution_count": null,
      "outputs": []
    },
    {
      "cell_type": "code",
      "source": [
        "# # 연도와 관련 데이터 빼봄\n",
        "# X = pd.get_dummies(X[['Year_Birth', 'Education', 'Marital_Status', 'Income', 'Kidhome',\n",
        "#        'Teenhome', 'Recency', 'NumDealsPurchases',\n",
        "#        'NumWebPurchases', 'NumCatalogPurchases', 'NumStorePurchases',\n",
        "#        'NumWebVisitsMonth', 'AcceptedCmp3', 'AcceptedCmp4', 'AcceptedCmp5',\n",
        "#        'AcceptedCmp1', 'AcceptedCmp2', 'Complain', 'Response']],\n",
        "#        columns = ['Education', 'Marital_Status'], drop_first = True)"
      ],
      "metadata": {
        "id": "H-erFKUmWQ5L"
      },
      "execution_count": null,
      "outputs": []
    },
    {
      "cell_type": "markdown",
      "source": [
        "## 02-3. 훈련데이터와 테스트 데이터 나눔"
      ],
      "metadata": {
        "id": "tCA8ap0sTERD"
      }
    },
    {
      "cell_type": "code",
      "source": [
        "from sklearn.model_selection import train_test_split\n",
        "X_train, X_test, y_train, y_test = train_test_split(X,y, test_size = 0.2, random_state = 2022)"
      ],
      "metadata": {
        "id": "A5_JFAtrTGhd"
      },
      "execution_count": null,
      "outputs": []
    },
    {
      "cell_type": "markdown",
      "source": [
        "## 02-4. data(X) 수치형 자료 표준화\n",
        "- train 데이터 세트의 표준화 포멧을 test 데이터 세트에 적용해야 함으로 순서가 이러함\n",
        "- 'Dt_Customer' : 표준화에서 제외\n",
        "- 'AcceptedCmp3', 'AcceptedCmp4', 'AcceptedCmp5', 'AcceptedCmp1', 'AcceptedCmp2', 'Complain', 'Response' : 데이터 타입이 0 or 1 이라서 표준화 안함"
      ],
      "metadata": {
        "id": "5L8Fj-GWY8WD"
      }
    },
    {
      "cell_type": "code",
      "source": [
        "from sklearn.preprocessing import StandardScaler\n",
        "stdsc = StandardScaler()"
      ],
      "metadata": {
        "id": "a-3usQf0NEXI"
      },
      "execution_count": null,
      "outputs": []
    },
    {
      "cell_type": "code",
      "source": [
        "# 아래 코드는 .iloc 사용하지 않고도 표준화 가능함을 보여주는 예시\n",
        "\n",
        "# X_train[['Income', 'Recency']] = stdsc.fit_transform(X_train[['Income', 'Recency']])\n",
        "# X_test.iloc[:,[0,1,2,3,4,5]] = stdsc.transform(X_test.iloc[:,[0,1,2,3,4,5]])"
      ],
      "metadata": {
        "id": "YGyJnDXIaM0e"
      },
      "execution_count": null,
      "outputs": []
    },
    {
      "cell_type": "code",
      "source": [
        "X_train[['Year_Birth', 'Income', 'Kidhome',\n",
        "       'Teenhome', 'Recency', 'NumDealsPurchases',\n",
        "       'NumWebPurchases', 'NumCatalogPurchases', 'NumStorePurchases',\n",
        "       'NumWebVisitsMonth', 'Dt_Customer_year']] = stdsc.fit_transform(X_train[['Year_Birth', 'Income', 'Kidhome',\n",
        "       'Teenhome', 'Recency', 'NumDealsPurchases',\n",
        "       'NumWebPurchases', 'NumCatalogPurchases', 'NumStorePurchases',\n",
        "       'NumWebVisitsMonth', 'Dt_Customer_year']])"
      ],
      "metadata": {
        "id": "287B8QczMoJ5"
      },
      "execution_count": null,
      "outputs": []
    },
    {
      "cell_type": "code",
      "source": [
        "X_train.head()"
      ],
      "metadata": {
        "colab": {
          "base_uri": "https://localhost:8080/",
          "height": 267
        },
        "id": "gjL1ZMEIaRKg",
        "outputId": "22ccd9aa-af92-473a-85d4-482d7c390d87"
      },
      "execution_count": null,
      "outputs": [
        {
          "output_type": "execute_result",
          "data": {
            "text/plain": [
              "     Year_Birth    Income   Kidhome  Teenhome Dt_Customer   Recency  \\\n",
              "453    0.690771 -0.742363  1.040307 -0.925898  16-04-2014  1.046336   \n",
              "712   -1.195405  1.561490 -0.781258 -0.925898  21-03-2014 -1.516403   \n",
              "674    1.592855 -1.131002  1.040307 -0.925898  28-04-2014 -0.650613   \n",
              "806   -0.293321  0.905444 -0.781258 -0.925898  21-08-2013 -0.823771   \n",
              "346    0.116717  0.708257 -0.781258  0.881031  10-11-2012 -0.615981   \n",
              "\n",
              "     NumDealsPurchases  NumWebPurchases  NumCatalogPurchases  \\\n",
              "453          -0.185655        -0.420402            -0.960742   \n",
              "712          -0.693340        -0.773126             0.487522   \n",
              "674          -0.693340        -1.125850            -0.960742   \n",
              "806          -0.693340         1.343217            -0.236610   \n",
              "346          -0.185655         0.990493             1.935786   \n",
              "\n",
              "     NumStorePurchases  NumWebVisitsMonth  AcceptedCmp3  AcceptedCmp4  \\\n",
              "453          -0.884755           0.268087             0             0   \n",
              "712           1.259539          -1.800949             0             1   \n",
              "674          -0.578427          -0.973335             0             0   \n",
              "806           1.259539          -0.559527             0             0   \n",
              "346          -0.272099          -0.145720             0             1   \n",
              "\n",
              "     AcceptedCmp5  AcceptedCmp1  AcceptedCmp2  Complain  Response  \\\n",
              "453             0             0             0         0         0   \n",
              "712             1             1             1         0         1   \n",
              "674             0             0             0         0         0   \n",
              "806             0             0             0         0         0   \n",
              "346             0             0             0         0         0   \n",
              "\n",
              "     Dt_Customer_year  Education_Basic  Education_Graduation  \\\n",
              "453          1.487143                0                     0   \n",
              "712          1.487143                0                     1   \n",
              "674          1.487143                0                     1   \n",
              "806         -0.020418                0                     1   \n",
              "346         -1.527980                0                     1   \n",
              "\n",
              "     Education_Master  Education_PhD  Marital_Status_Alone  \\\n",
              "453                 1              0                     0   \n",
              "712                 0              0                     0   \n",
              "674                 0              0                     0   \n",
              "806                 0              0                     0   \n",
              "346                 0              0                     0   \n",
              "\n",
              "     Marital_Status_Divorced  Marital_Status_Married  Marital_Status_Single  \\\n",
              "453                        0                       0                      1   \n",
              "712                        1                       0                      0   \n",
              "674                        0                       0                      1   \n",
              "806                        0                       0                      0   \n",
              "346                        0                       0                      1   \n",
              "\n",
              "     Marital_Status_Together  Marital_Status_Widow  Marital_Status_YOLO  \n",
              "453                        0                     0                    0  \n",
              "712                        0                     0                    0  \n",
              "674                        0                     0                    0  \n",
              "806                        1                     0                    0  \n",
              "346                        0                     0                    0  "
            ],
            "text/html": [
              "\n",
              "  <div id=\"df-bffe8851-0a48-45fe-8945-94cf2d75cc7a\">\n",
              "    <div class=\"colab-df-container\">\n",
              "      <div>\n",
              "<style scoped>\n",
              "    .dataframe tbody tr th:only-of-type {\n",
              "        vertical-align: middle;\n",
              "    }\n",
              "\n",
              "    .dataframe tbody tr th {\n",
              "        vertical-align: top;\n",
              "    }\n",
              "\n",
              "    .dataframe thead th {\n",
              "        text-align: right;\n",
              "    }\n",
              "</style>\n",
              "<table border=\"1\" class=\"dataframe\">\n",
              "  <thead>\n",
              "    <tr style=\"text-align: right;\">\n",
              "      <th></th>\n",
              "      <th>Year_Birth</th>\n",
              "      <th>Income</th>\n",
              "      <th>Kidhome</th>\n",
              "      <th>Teenhome</th>\n",
              "      <th>Dt_Customer</th>\n",
              "      <th>Recency</th>\n",
              "      <th>NumDealsPurchases</th>\n",
              "      <th>NumWebPurchases</th>\n",
              "      <th>NumCatalogPurchases</th>\n",
              "      <th>NumStorePurchases</th>\n",
              "      <th>NumWebVisitsMonth</th>\n",
              "      <th>AcceptedCmp3</th>\n",
              "      <th>AcceptedCmp4</th>\n",
              "      <th>AcceptedCmp5</th>\n",
              "      <th>AcceptedCmp1</th>\n",
              "      <th>AcceptedCmp2</th>\n",
              "      <th>Complain</th>\n",
              "      <th>Response</th>\n",
              "      <th>Dt_Customer_year</th>\n",
              "      <th>Education_Basic</th>\n",
              "      <th>Education_Graduation</th>\n",
              "      <th>Education_Master</th>\n",
              "      <th>Education_PhD</th>\n",
              "      <th>Marital_Status_Alone</th>\n",
              "      <th>Marital_Status_Divorced</th>\n",
              "      <th>Marital_Status_Married</th>\n",
              "      <th>Marital_Status_Single</th>\n",
              "      <th>Marital_Status_Together</th>\n",
              "      <th>Marital_Status_Widow</th>\n",
              "      <th>Marital_Status_YOLO</th>\n",
              "    </tr>\n",
              "  </thead>\n",
              "  <tbody>\n",
              "    <tr>\n",
              "      <th>453</th>\n",
              "      <td>0.690771</td>\n",
              "      <td>-0.742363</td>\n",
              "      <td>1.040307</td>\n",
              "      <td>-0.925898</td>\n",
              "      <td>16-04-2014</td>\n",
              "      <td>1.046336</td>\n",
              "      <td>-0.185655</td>\n",
              "      <td>-0.420402</td>\n",
              "      <td>-0.960742</td>\n",
              "      <td>-0.884755</td>\n",
              "      <td>0.268087</td>\n",
              "      <td>0</td>\n",
              "      <td>0</td>\n",
              "      <td>0</td>\n",
              "      <td>0</td>\n",
              "      <td>0</td>\n",
              "      <td>0</td>\n",
              "      <td>0</td>\n",
              "      <td>1.487143</td>\n",
              "      <td>0</td>\n",
              "      <td>0</td>\n",
              "      <td>1</td>\n",
              "      <td>0</td>\n",
              "      <td>0</td>\n",
              "      <td>0</td>\n",
              "      <td>0</td>\n",
              "      <td>1</td>\n",
              "      <td>0</td>\n",
              "      <td>0</td>\n",
              "      <td>0</td>\n",
              "    </tr>\n",
              "    <tr>\n",
              "      <th>712</th>\n",
              "      <td>-1.195405</td>\n",
              "      <td>1.561490</td>\n",
              "      <td>-0.781258</td>\n",
              "      <td>-0.925898</td>\n",
              "      <td>21-03-2014</td>\n",
              "      <td>-1.516403</td>\n",
              "      <td>-0.693340</td>\n",
              "      <td>-0.773126</td>\n",
              "      <td>0.487522</td>\n",
              "      <td>1.259539</td>\n",
              "      <td>-1.800949</td>\n",
              "      <td>0</td>\n",
              "      <td>1</td>\n",
              "      <td>1</td>\n",
              "      <td>1</td>\n",
              "      <td>1</td>\n",
              "      <td>0</td>\n",
              "      <td>1</td>\n",
              "      <td>1.487143</td>\n",
              "      <td>0</td>\n",
              "      <td>1</td>\n",
              "      <td>0</td>\n",
              "      <td>0</td>\n",
              "      <td>0</td>\n",
              "      <td>1</td>\n",
              "      <td>0</td>\n",
              "      <td>0</td>\n",
              "      <td>0</td>\n",
              "      <td>0</td>\n",
              "      <td>0</td>\n",
              "    </tr>\n",
              "    <tr>\n",
              "      <th>674</th>\n",
              "      <td>1.592855</td>\n",
              "      <td>-1.131002</td>\n",
              "      <td>1.040307</td>\n",
              "      <td>-0.925898</td>\n",
              "      <td>28-04-2014</td>\n",
              "      <td>-0.650613</td>\n",
              "      <td>-0.693340</td>\n",
              "      <td>-1.125850</td>\n",
              "      <td>-0.960742</td>\n",
              "      <td>-0.578427</td>\n",
              "      <td>-0.973335</td>\n",
              "      <td>0</td>\n",
              "      <td>0</td>\n",
              "      <td>0</td>\n",
              "      <td>0</td>\n",
              "      <td>0</td>\n",
              "      <td>0</td>\n",
              "      <td>0</td>\n",
              "      <td>1.487143</td>\n",
              "      <td>0</td>\n",
              "      <td>1</td>\n",
              "      <td>0</td>\n",
              "      <td>0</td>\n",
              "      <td>0</td>\n",
              "      <td>0</td>\n",
              "      <td>0</td>\n",
              "      <td>1</td>\n",
              "      <td>0</td>\n",
              "      <td>0</td>\n",
              "      <td>0</td>\n",
              "    </tr>\n",
              "    <tr>\n",
              "      <th>806</th>\n",
              "      <td>-0.293321</td>\n",
              "      <td>0.905444</td>\n",
              "      <td>-0.781258</td>\n",
              "      <td>-0.925898</td>\n",
              "      <td>21-08-2013</td>\n",
              "      <td>-0.823771</td>\n",
              "      <td>-0.693340</td>\n",
              "      <td>1.343217</td>\n",
              "      <td>-0.236610</td>\n",
              "      <td>1.259539</td>\n",
              "      <td>-0.559527</td>\n",
              "      <td>0</td>\n",
              "      <td>0</td>\n",
              "      <td>0</td>\n",
              "      <td>0</td>\n",
              "      <td>0</td>\n",
              "      <td>0</td>\n",
              "      <td>0</td>\n",
              "      <td>-0.020418</td>\n",
              "      <td>0</td>\n",
              "      <td>1</td>\n",
              "      <td>0</td>\n",
              "      <td>0</td>\n",
              "      <td>0</td>\n",
              "      <td>0</td>\n",
              "      <td>0</td>\n",
              "      <td>0</td>\n",
              "      <td>1</td>\n",
              "      <td>0</td>\n",
              "      <td>0</td>\n",
              "    </tr>\n",
              "    <tr>\n",
              "      <th>346</th>\n",
              "      <td>0.116717</td>\n",
              "      <td>0.708257</td>\n",
              "      <td>-0.781258</td>\n",
              "      <td>0.881031</td>\n",
              "      <td>10-11-2012</td>\n",
              "      <td>-0.615981</td>\n",
              "      <td>-0.185655</td>\n",
              "      <td>0.990493</td>\n",
              "      <td>1.935786</td>\n",
              "      <td>-0.272099</td>\n",
              "      <td>-0.145720</td>\n",
              "      <td>0</td>\n",
              "      <td>1</td>\n",
              "      <td>0</td>\n",
              "      <td>0</td>\n",
              "      <td>0</td>\n",
              "      <td>0</td>\n",
              "      <td>0</td>\n",
              "      <td>-1.527980</td>\n",
              "      <td>0</td>\n",
              "      <td>1</td>\n",
              "      <td>0</td>\n",
              "      <td>0</td>\n",
              "      <td>0</td>\n",
              "      <td>0</td>\n",
              "      <td>0</td>\n",
              "      <td>1</td>\n",
              "      <td>0</td>\n",
              "      <td>0</td>\n",
              "      <td>0</td>\n",
              "    </tr>\n",
              "  </tbody>\n",
              "</table>\n",
              "</div>\n",
              "      <button class=\"colab-df-convert\" onclick=\"convertToInteractive('df-bffe8851-0a48-45fe-8945-94cf2d75cc7a')\"\n",
              "              title=\"Convert this dataframe to an interactive table.\"\n",
              "              style=\"display:none;\">\n",
              "        \n",
              "  <svg xmlns=\"http://www.w3.org/2000/svg\" height=\"24px\"viewBox=\"0 0 24 24\"\n",
              "       width=\"24px\">\n",
              "    <path d=\"M0 0h24v24H0V0z\" fill=\"none\"/>\n",
              "    <path d=\"M18.56 5.44l.94 2.06.94-2.06 2.06-.94-2.06-.94-.94-2.06-.94 2.06-2.06.94zm-11 1L8.5 8.5l.94-2.06 2.06-.94-2.06-.94L8.5 2.5l-.94 2.06-2.06.94zm10 10l.94 2.06.94-2.06 2.06-.94-2.06-.94-.94-2.06-.94 2.06-2.06.94z\"/><path d=\"M17.41 7.96l-1.37-1.37c-.4-.4-.92-.59-1.43-.59-.52 0-1.04.2-1.43.59L10.3 9.45l-7.72 7.72c-.78.78-.78 2.05 0 2.83L4 21.41c.39.39.9.59 1.41.59.51 0 1.02-.2 1.41-.59l7.78-7.78 2.81-2.81c.8-.78.8-2.07 0-2.86zM5.41 20L4 18.59l7.72-7.72 1.47 1.35L5.41 20z\"/>\n",
              "  </svg>\n",
              "      </button>\n",
              "      \n",
              "  <style>\n",
              "    .colab-df-container {\n",
              "      display:flex;\n",
              "      flex-wrap:wrap;\n",
              "      gap: 12px;\n",
              "    }\n",
              "\n",
              "    .colab-df-convert {\n",
              "      background-color: #E8F0FE;\n",
              "      border: none;\n",
              "      border-radius: 50%;\n",
              "      cursor: pointer;\n",
              "      display: none;\n",
              "      fill: #1967D2;\n",
              "      height: 32px;\n",
              "      padding: 0 0 0 0;\n",
              "      width: 32px;\n",
              "    }\n",
              "\n",
              "    .colab-df-convert:hover {\n",
              "      background-color: #E2EBFA;\n",
              "      box-shadow: 0px 1px 2px rgba(60, 64, 67, 0.3), 0px 1px 3px 1px rgba(60, 64, 67, 0.15);\n",
              "      fill: #174EA6;\n",
              "    }\n",
              "\n",
              "    [theme=dark] .colab-df-convert {\n",
              "      background-color: #3B4455;\n",
              "      fill: #D2E3FC;\n",
              "    }\n",
              "\n",
              "    [theme=dark] .colab-df-convert:hover {\n",
              "      background-color: #434B5C;\n",
              "      box-shadow: 0px 1px 3px 1px rgba(0, 0, 0, 0.15);\n",
              "      filter: drop-shadow(0px 1px 2px rgba(0, 0, 0, 0.3));\n",
              "      fill: #FFFFFF;\n",
              "    }\n",
              "  </style>\n",
              "\n",
              "      <script>\n",
              "        const buttonEl =\n",
              "          document.querySelector('#df-bffe8851-0a48-45fe-8945-94cf2d75cc7a button.colab-df-convert');\n",
              "        buttonEl.style.display =\n",
              "          google.colab.kernel.accessAllowed ? 'block' : 'none';\n",
              "\n",
              "        async function convertToInteractive(key) {\n",
              "          const element = document.querySelector('#df-bffe8851-0a48-45fe-8945-94cf2d75cc7a');\n",
              "          const dataTable =\n",
              "            await google.colab.kernel.invokeFunction('convertToInteractive',\n",
              "                                                     [key], {});\n",
              "          if (!dataTable) return;\n",
              "\n",
              "          const docLinkHtml = 'Like what you see? Visit the ' +\n",
              "            '<a target=\"_blank\" href=https://colab.research.google.com/notebooks/data_table.ipynb>data table notebook</a>'\n",
              "            + ' to learn more about interactive tables.';\n",
              "          element.innerHTML = '';\n",
              "          dataTable['output_type'] = 'display_data';\n",
              "          await google.colab.output.renderOutput(dataTable, element);\n",
              "          const docLink = document.createElement('div');\n",
              "          docLink.innerHTML = docLinkHtml;\n",
              "          element.appendChild(docLink);\n",
              "        }\n",
              "      </script>\n",
              "    </div>\n",
              "  </div>\n",
              "  "
            ]
          },
          "metadata": {},
          "execution_count": 25
        }
      ]
    },
    {
      "cell_type": "code",
      "source": [
        "X_test[['Year_Birth', 'Income', 'Kidhome',\n",
        "       'Teenhome', 'Recency', 'NumDealsPurchases',\n",
        "       'NumWebPurchases', 'NumCatalogPurchases', 'NumStorePurchases',\n",
        "       'NumWebVisitsMonth', 'Dt_Customer_year']] = stdsc.transform(X_test[['Year_Birth', 'Income', 'Kidhome',\n",
        "       'Teenhome', 'Recency', 'NumDealsPurchases',\n",
        "       'NumWebPurchases', 'NumCatalogPurchases', 'NumStorePurchases',\n",
        "       'NumWebVisitsMonth', 'Dt_Customer_year']])"
      ],
      "metadata": {
        "id": "m_TqRz9TaLc-"
      },
      "execution_count": null,
      "outputs": []
    },
    {
      "cell_type": "markdown",
      "source": [
        "# 03. 모델 구축하기\n",
        "## 03-1. 모델선정\n",
        "- LinearRegression"
      ],
      "metadata": {
        "id": "ZOdtDdFZa9Xq"
      }
    },
    {
      "cell_type": "code",
      "source": [
        "from sklearn.linear_model import LinearRegression\n",
        "slr = LinearRegression()\n",
        "slr.fit(X_train, y_train)\n",
        "\n",
        "y_train_pred = slr.predict(X_train)\n",
        "y_test_pred = slr.predict(X_test)"
      ],
      "metadata": {
        "id": "CP_qmROxa_BZ"
      },
      "execution_count": null,
      "outputs": []
    },
    {
      "cell_type": "markdown",
      "source": [
        "### 03-2. 모델의 성능 평가\n",
        "- MSE : 평균 제곱 오차\n",
        "- 결정계수"
      ],
      "metadata": {
        "id": "Kqjh4sC-R-1U"
      }
    },
    {
      "cell_type": "code",
      "source": [
        "from sklearn.metrics import mean_squared_error\n",
        "print(\"훈련 세트 데이터 MSE : {:.3f}\".format(mean_squared_error(y_train, y_train_pred)))\n",
        "print(\"테스트 세트 데이터 MSE : {:.3f}\".format(mean_squared_error(y_test, y_test_pred)))"
      ],
      "metadata": {
        "colab": {
          "base_uri": "https://localhost:8080/"
        },
        "id": "pRyKA7PzQieC",
        "outputId": "70c13045-30fd-46ba-c1f9-81793bc6c9dc"
      },
      "execution_count": null,
      "outputs": [
        {
          "output_type": "stream",
          "name": "stdout",
          "text": [
            "훈련 세트 데이터 MSE : 63478.310\n",
            "테스트 세트 데이터 MSE : 93636369375253.016\n"
          ]
        }
      ]
    },
    {
      "cell_type": "code",
      "source": [
        "from sklearn.metrics import r2_score\n",
        "print(\"훈련 R^2 : %.3f, 테스트 R^2 :  %.3f\" %\n",
        "      (r2_score(y_train, y_train_pred),\n",
        "      r2_score(y_test, y_test_pred)))"
      ],
      "metadata": {
        "colab": {
          "base_uri": "https://localhost:8080/"
        },
        "id": "fjoAjH6sRaKw",
        "outputId": "a36cf1fb-d1a5-48e4-ca3e-b8fcc3cbeea8"
      },
      "execution_count": null,
      "outputs": [
        {
          "output_type": "stream",
          "name": "stdout",
          "text": [
            "훈련 R^2 : 0.823, 테스트 R^2 :  0.837\n"
          ]
        }
      ]
    },
    {
      "cell_type": "markdown",
      "source": [
        "## RANSAC 모델 사용해보자"
      ],
      "metadata": {
        "id": "mlShFaj3TeEA"
      }
    },
    {
      "cell_type": "code",
      "source": [
        "from sklearn.linear_model import RANSACRegressor\n",
        "ransac = RANSACRegressor(LinearRegression(),\n",
        "                          max_trials = 100,\n",
        "                          min_samples = 50,\n",
        "                          loss = 'absolute_loss',\n",
        "                          residual_threshold = 5.0,\n",
        "                          random_state=0)\n",
        "ransac.fit(X_train, y_train)"
      ],
      "metadata": {
        "colab": {
          "base_uri": "https://localhost:8080/"
        },
        "id": "gAIyZ3vdSzIx",
        "outputId": "e1a1d985-6037-458c-9e6c-aa053660ab08"
      },
      "execution_count": null,
      "outputs": [
        {
          "output_type": "stream",
          "name": "stderr",
          "text": [
            "/usr/local/lib/python3.7/dist-packages/sklearn/linear_model/_ransac.py:358: FutureWarning: The loss 'absolute_loss' was deprecated in v1.0 and will be removed in version 1.2. Use `loss='absolute_error'` which is equivalent.\n",
            "  FutureWarning,\n"
          ]
        },
        {
          "output_type": "execute_result",
          "data": {
            "text/plain": [
              "RANSACRegressor(base_estimator=LinearRegression(), loss='absolute_loss',\n",
              "                min_samples=50, random_state=0, residual_threshold=5.0)"
            ]
          },
          "metadata": {},
          "execution_count": 60
        }
      ]
    },
    {
      "cell_type": "code",
      "source": [
        "y_train_pred = ransac.predict(X_train)\n",
        "y_test_pred = ransac.predict(X_test)\n",
        "print(\"훈련 R^2 : %.3f, 테스트 R^2 :  %.3f\" %\n",
        "      (r2_score(y_train, y_train_pred),\n",
        "      r2_score(y_test, y_test_pred)))"
      ],
      "metadata": {
        "colab": {
          "base_uri": "https://localhost:8080/"
        },
        "id": "NGxdaUbqUGCr",
        "outputId": "d353c6ab-5848-408b-d32a-5decc016116b"
      },
      "execution_count": null,
      "outputs": [
        {
          "output_type": "stream",
          "name": "stdout",
          "text": [
            "훈련 R^2 : 0.666, 테스트 R^2 :  0.680\n"
          ]
        }
      ]
    },
    {
      "cell_type": "code",
      "source": [
        ""
      ],
      "metadata": {
        "id": "66sBTq2PV5l0"
      },
      "execution_count": null,
      "outputs": []
    },
    {
      "cell_type": "markdown",
      "source": [
        "# 04. 최적 모델 찾기\n"
      ],
      "metadata": {
        "id": "FqZBzK-RXW9g"
      }
    },
    {
      "cell_type": "markdown",
      "source": [
        "# 05. final test 데이터로 예측하기\n",
        "## 05-1. 데이터 불러오기"
      ],
      "metadata": {
        "id": "XFwuIvAjXaX3"
      }
    },
    {
      "cell_type": "code",
      "source": [
        "final_test = pd.read_csv(\"/content/drive/MyDrive/Colab Notebooks/소비 예측 경진대회/test.csv\")"
      ],
      "metadata": {
        "id": "Z_ryjE3QXi2G"
      },
      "execution_count": null,
      "outputs": []
    },
    {
      "cell_type": "code",
      "source": [
        "final_test.head()"
      ],
      "metadata": {
        "colab": {
          "base_uri": "https://localhost:8080/",
          "height": 267
        },
        "id": "teV0T6CdYUFT",
        "outputId": "2c54790f-3293-47e6-8183-224971aef0f4"
      },
      "execution_count": null,
      "outputs": [
        {
          "output_type": "execute_result",
          "data": {
            "text/plain": [
              "   id  Year_Birth   Education Marital_Status   Income  Kidhome  Teenhome  \\\n",
              "0   0        1979  Graduation         Single  57537.0        1         0   \n",
              "1   1        1955  Graduation       Together  65748.0        0         1   \n",
              "2   2        1984  Graduation        Married  55434.0        1         0   \n",
              "3   3        1960  Graduation        Married  67716.0        0         1   \n",
              "4   4        1976  Graduation       Together  85606.0        0         1   \n",
              "\n",
              "  Dt_Customer  Recency  NumDealsPurchases  NumWebPurchases  \\\n",
              "0  10-06-2013       83                  4                4   \n",
              "1  15-04-2013       58                  2                2   \n",
              "2  05-10-2013       21                  3                5   \n",
              "3  10-01-2013        8                  4                7   \n",
              "4  12-11-2012       89                  2                6   \n",
              "\n",
              "   NumCatalogPurchases  NumStorePurchases  NumWebVisitsMonth  AcceptedCmp3  \\\n",
              "0                    3                  8                  4             0   \n",
              "1                    4                 10                  1             0   \n",
              "2                    3                 13                  4             0   \n",
              "3                    4                 13                  5             0   \n",
              "4                    7                  9                  3             0   \n",
              "\n",
              "   AcceptedCmp4  AcceptedCmp5  AcceptedCmp1  AcceptedCmp2  Complain  Response  \n",
              "0             0             0             0             0         0         0  \n",
              "1             0             0             0             0         1         0  \n",
              "2             0             0             0             0         0         0  \n",
              "3             1             0             0             0         0         0  \n",
              "4             0             0             1             0         0         0  "
            ],
            "text/html": [
              "\n",
              "  <div id=\"df-0feab43c-7552-4689-b086-66b13c9d0c5d\">\n",
              "    <div class=\"colab-df-container\">\n",
              "      <div>\n",
              "<style scoped>\n",
              "    .dataframe tbody tr th:only-of-type {\n",
              "        vertical-align: middle;\n",
              "    }\n",
              "\n",
              "    .dataframe tbody tr th {\n",
              "        vertical-align: top;\n",
              "    }\n",
              "\n",
              "    .dataframe thead th {\n",
              "        text-align: right;\n",
              "    }\n",
              "</style>\n",
              "<table border=\"1\" class=\"dataframe\">\n",
              "  <thead>\n",
              "    <tr style=\"text-align: right;\">\n",
              "      <th></th>\n",
              "      <th>id</th>\n",
              "      <th>Year_Birth</th>\n",
              "      <th>Education</th>\n",
              "      <th>Marital_Status</th>\n",
              "      <th>Income</th>\n",
              "      <th>Kidhome</th>\n",
              "      <th>Teenhome</th>\n",
              "      <th>Dt_Customer</th>\n",
              "      <th>Recency</th>\n",
              "      <th>NumDealsPurchases</th>\n",
              "      <th>NumWebPurchases</th>\n",
              "      <th>NumCatalogPurchases</th>\n",
              "      <th>NumStorePurchases</th>\n",
              "      <th>NumWebVisitsMonth</th>\n",
              "      <th>AcceptedCmp3</th>\n",
              "      <th>AcceptedCmp4</th>\n",
              "      <th>AcceptedCmp5</th>\n",
              "      <th>AcceptedCmp1</th>\n",
              "      <th>AcceptedCmp2</th>\n",
              "      <th>Complain</th>\n",
              "      <th>Response</th>\n",
              "    </tr>\n",
              "  </thead>\n",
              "  <tbody>\n",
              "    <tr>\n",
              "      <th>0</th>\n",
              "      <td>0</td>\n",
              "      <td>1979</td>\n",
              "      <td>Graduation</td>\n",
              "      <td>Single</td>\n",
              "      <td>57537.0</td>\n",
              "      <td>1</td>\n",
              "      <td>0</td>\n",
              "      <td>10-06-2013</td>\n",
              "      <td>83</td>\n",
              "      <td>4</td>\n",
              "      <td>4</td>\n",
              "      <td>3</td>\n",
              "      <td>8</td>\n",
              "      <td>4</td>\n",
              "      <td>0</td>\n",
              "      <td>0</td>\n",
              "      <td>0</td>\n",
              "      <td>0</td>\n",
              "      <td>0</td>\n",
              "      <td>0</td>\n",
              "      <td>0</td>\n",
              "    </tr>\n",
              "    <tr>\n",
              "      <th>1</th>\n",
              "      <td>1</td>\n",
              "      <td>1955</td>\n",
              "      <td>Graduation</td>\n",
              "      <td>Together</td>\n",
              "      <td>65748.0</td>\n",
              "      <td>0</td>\n",
              "      <td>1</td>\n",
              "      <td>15-04-2013</td>\n",
              "      <td>58</td>\n",
              "      <td>2</td>\n",
              "      <td>2</td>\n",
              "      <td>4</td>\n",
              "      <td>10</td>\n",
              "      <td>1</td>\n",
              "      <td>0</td>\n",
              "      <td>0</td>\n",
              "      <td>0</td>\n",
              "      <td>0</td>\n",
              "      <td>0</td>\n",
              "      <td>1</td>\n",
              "      <td>0</td>\n",
              "    </tr>\n",
              "    <tr>\n",
              "      <th>2</th>\n",
              "      <td>2</td>\n",
              "      <td>1984</td>\n",
              "      <td>Graduation</td>\n",
              "      <td>Married</td>\n",
              "      <td>55434.0</td>\n",
              "      <td>1</td>\n",
              "      <td>0</td>\n",
              "      <td>05-10-2013</td>\n",
              "      <td>21</td>\n",
              "      <td>3</td>\n",
              "      <td>5</td>\n",
              "      <td>3</td>\n",
              "      <td>13</td>\n",
              "      <td>4</td>\n",
              "      <td>0</td>\n",
              "      <td>0</td>\n",
              "      <td>0</td>\n",
              "      <td>0</td>\n",
              "      <td>0</td>\n",
              "      <td>0</td>\n",
              "      <td>0</td>\n",
              "    </tr>\n",
              "    <tr>\n",
              "      <th>3</th>\n",
              "      <td>3</td>\n",
              "      <td>1960</td>\n",
              "      <td>Graduation</td>\n",
              "      <td>Married</td>\n",
              "      <td>67716.0</td>\n",
              "      <td>0</td>\n",
              "      <td>1</td>\n",
              "      <td>10-01-2013</td>\n",
              "      <td>8</td>\n",
              "      <td>4</td>\n",
              "      <td>7</td>\n",
              "      <td>4</td>\n",
              "      <td>13</td>\n",
              "      <td>5</td>\n",
              "      <td>0</td>\n",
              "      <td>1</td>\n",
              "      <td>0</td>\n",
              "      <td>0</td>\n",
              "      <td>0</td>\n",
              "      <td>0</td>\n",
              "      <td>0</td>\n",
              "    </tr>\n",
              "    <tr>\n",
              "      <th>4</th>\n",
              "      <td>4</td>\n",
              "      <td>1976</td>\n",
              "      <td>Graduation</td>\n",
              "      <td>Together</td>\n",
              "      <td>85606.0</td>\n",
              "      <td>0</td>\n",
              "      <td>1</td>\n",
              "      <td>12-11-2012</td>\n",
              "      <td>89</td>\n",
              "      <td>2</td>\n",
              "      <td>6</td>\n",
              "      <td>7</td>\n",
              "      <td>9</td>\n",
              "      <td>3</td>\n",
              "      <td>0</td>\n",
              "      <td>0</td>\n",
              "      <td>0</td>\n",
              "      <td>1</td>\n",
              "      <td>0</td>\n",
              "      <td>0</td>\n",
              "      <td>0</td>\n",
              "    </tr>\n",
              "  </tbody>\n",
              "</table>\n",
              "</div>\n",
              "      <button class=\"colab-df-convert\" onclick=\"convertToInteractive('df-0feab43c-7552-4689-b086-66b13c9d0c5d')\"\n",
              "              title=\"Convert this dataframe to an interactive table.\"\n",
              "              style=\"display:none;\">\n",
              "        \n",
              "  <svg xmlns=\"http://www.w3.org/2000/svg\" height=\"24px\"viewBox=\"0 0 24 24\"\n",
              "       width=\"24px\">\n",
              "    <path d=\"M0 0h24v24H0V0z\" fill=\"none\"/>\n",
              "    <path d=\"M18.56 5.44l.94 2.06.94-2.06 2.06-.94-2.06-.94-.94-2.06-.94 2.06-2.06.94zm-11 1L8.5 8.5l.94-2.06 2.06-.94-2.06-.94L8.5 2.5l-.94 2.06-2.06.94zm10 10l.94 2.06.94-2.06 2.06-.94-2.06-.94-.94-2.06-.94 2.06-2.06.94z\"/><path d=\"M17.41 7.96l-1.37-1.37c-.4-.4-.92-.59-1.43-.59-.52 0-1.04.2-1.43.59L10.3 9.45l-7.72 7.72c-.78.78-.78 2.05 0 2.83L4 21.41c.39.39.9.59 1.41.59.51 0 1.02-.2 1.41-.59l7.78-7.78 2.81-2.81c.8-.78.8-2.07 0-2.86zM5.41 20L4 18.59l7.72-7.72 1.47 1.35L5.41 20z\"/>\n",
              "  </svg>\n",
              "      </button>\n",
              "      \n",
              "  <style>\n",
              "    .colab-df-container {\n",
              "      display:flex;\n",
              "      flex-wrap:wrap;\n",
              "      gap: 12px;\n",
              "    }\n",
              "\n",
              "    .colab-df-convert {\n",
              "      background-color: #E8F0FE;\n",
              "      border: none;\n",
              "      border-radius: 50%;\n",
              "      cursor: pointer;\n",
              "      display: none;\n",
              "      fill: #1967D2;\n",
              "      height: 32px;\n",
              "      padding: 0 0 0 0;\n",
              "      width: 32px;\n",
              "    }\n",
              "\n",
              "    .colab-df-convert:hover {\n",
              "      background-color: #E2EBFA;\n",
              "      box-shadow: 0px 1px 2px rgba(60, 64, 67, 0.3), 0px 1px 3px 1px rgba(60, 64, 67, 0.15);\n",
              "      fill: #174EA6;\n",
              "    }\n",
              "\n",
              "    [theme=dark] .colab-df-convert {\n",
              "      background-color: #3B4455;\n",
              "      fill: #D2E3FC;\n",
              "    }\n",
              "\n",
              "    [theme=dark] .colab-df-convert:hover {\n",
              "      background-color: #434B5C;\n",
              "      box-shadow: 0px 1px 3px 1px rgba(0, 0, 0, 0.15);\n",
              "      filter: drop-shadow(0px 1px 2px rgba(0, 0, 0, 0.3));\n",
              "      fill: #FFFFFF;\n",
              "    }\n",
              "  </style>\n",
              "\n",
              "      <script>\n",
              "        const buttonEl =\n",
              "          document.querySelector('#df-0feab43c-7552-4689-b086-66b13c9d0c5d button.colab-df-convert');\n",
              "        buttonEl.style.display =\n",
              "          google.colab.kernel.accessAllowed ? 'block' : 'none';\n",
              "\n",
              "        async function convertToInteractive(key) {\n",
              "          const element = document.querySelector('#df-0feab43c-7552-4689-b086-66b13c9d0c5d');\n",
              "          const dataTable =\n",
              "            await google.colab.kernel.invokeFunction('convertToInteractive',\n",
              "                                                     [key], {});\n",
              "          if (!dataTable) return;\n",
              "\n",
              "          const docLinkHtml = 'Like what you see? Visit the ' +\n",
              "            '<a target=\"_blank\" href=https://colab.research.google.com/notebooks/data_table.ipynb>data table notebook</a>'\n",
              "            + ' to learn more about interactive tables.';\n",
              "          element.innerHTML = '';\n",
              "          dataTable['output_type'] = 'display_data';\n",
              "          await google.colab.output.renderOutput(dataTable, element);\n",
              "          const docLink = document.createElement('div');\n",
              "          docLink.innerHTML = docLinkHtml;\n",
              "          element.appendChild(docLink);\n",
              "        }\n",
              "      </script>\n",
              "    </div>\n",
              "  </div>\n",
              "  "
            ]
          },
          "metadata": {},
          "execution_count": 68
        }
      ]
    },
    {
      "cell_type": "markdown",
      "source": [
        "## id 컬럼은 제출 파일 만들때 따로 써야 함으로 떼어놓음"
      ],
      "metadata": {
        "id": "DwVolq5vZt04"
      }
    },
    {
      "cell_type": "code",
      "source": [
        "final_id = final_test['id']\n",
        "final_id.head()"
      ],
      "metadata": {
        "colab": {
          "base_uri": "https://localhost:8080/"
        },
        "id": "V08NdA26Zr80",
        "outputId": "649a5838-e17c-4eb6-878d-ccf5402d0a4b"
      },
      "execution_count": null,
      "outputs": [
        {
          "output_type": "execute_result",
          "data": {
            "text/plain": [
              "0    0\n",
              "1    1\n",
              "2    2\n",
              "3    3\n",
              "4    4\n",
              "Name: id, dtype: int64"
            ]
          },
          "metadata": {},
          "execution_count": 69
        }
      ]
    },
    {
      "cell_type": "markdown",
      "source": [
        "## 05-2. final test 데이터 전처리하기\n",
        "1) 년도 추출  "
      ],
      "metadata": {
        "id": "RD003kioXojC"
      }
    },
    {
      "cell_type": "code",
      "source": [
        "final_test['Dt_Customer_year'] = pd.DatetimeIndex(final_test['Dt_Customer']).year\n",
        "final_test['Dt_Customer_year']"
      ],
      "metadata": {
        "colab": {
          "base_uri": "https://localhost:8080/",
          "height": 188
        },
        "id": "AK6PIkmOXrD6",
        "outputId": "37600795-0829-4f89-c199-ba29add393d4"
      },
      "execution_count": null,
      "outputs": [
        {
          "output_type": "error",
          "ename": "NameError",
          "evalue": "ignored",
          "traceback": [
            "\u001b[0;31m---------------------------------------------------------------------------\u001b[0m",
            "\u001b[0;31mNameError\u001b[0m                                 Traceback (most recent call last)",
            "\u001b[0;32m<ipython-input-1-b178fd0c50a2>\u001b[0m in \u001b[0;36m<module>\u001b[0;34m()\u001b[0m\n\u001b[0;32m----> 1\u001b[0;31m \u001b[0mfinal_test\u001b[0m\u001b[0;34m[\u001b[0m\u001b[0;34m'Dt_Customer_year'\u001b[0m\u001b[0;34m]\u001b[0m \u001b[0;34m=\u001b[0m \u001b[0mpd\u001b[0m\u001b[0;34m.\u001b[0m\u001b[0mDatetimeIndex\u001b[0m\u001b[0;34m(\u001b[0m\u001b[0mfinal_test\u001b[0m\u001b[0;34m[\u001b[0m\u001b[0;34m'Dt_Customer'\u001b[0m\u001b[0;34m]\u001b[0m\u001b[0;34m)\u001b[0m\u001b[0;34m.\u001b[0m\u001b[0myear\u001b[0m\u001b[0;34m\u001b[0m\u001b[0;34m\u001b[0m\u001b[0m\n\u001b[0m\u001b[1;32m      2\u001b[0m \u001b[0mfinal_test\u001b[0m\u001b[0;34m[\u001b[0m\u001b[0;34m'Dt_Customer_year'\u001b[0m\u001b[0;34m]\u001b[0m\u001b[0;34m\u001b[0m\u001b[0;34m\u001b[0m\u001b[0m\n",
            "\u001b[0;31mNameError\u001b[0m: name 'pd' is not defined"
          ]
        }
      ]
    },
    {
      "cell_type": "markdown",
      "source": [
        "2) 일부 컬럼 drop  \n",
        "3) 범주형 변수 -> 더미 변수화  \n",
        "4) 수치형 변수 -> 표준화"
      ],
      "metadata": {
        "id": "cEK2NAYAZPUb"
      }
    },
    {
      "cell_type": "code",
      "source": [
        "final_test = df.drop([\"id\",\"Dt_Customer\",\"target\"], axis = 1)\n",
        "\n",
        "final_test = pd.get_dummies(final_test[['Year_Birth', 'Education', 'Marital_Status', 'Income', 'Kidhome',\n",
        "       'Teenhome', 'Recency', 'NumDealsPurchases',\n",
        "       'NumWebPurchases', 'NumCatalogPurchases', 'NumStorePurchases',\n",
        "       'NumWebVisitsMonth', 'AcceptedCmp3', 'AcceptedCmp4', 'AcceptedCmp5',\n",
        "       'AcceptedCmp1', 'AcceptedCmp2', 'Complain', 'Response', 'Dt_Customer_year']],\n",
        "       columns = ['Education', 'Marital_Status'], drop_first = True)\n",
        "\n",
        "final_test[['Year_Birth', 'Income', 'Kidhome',\n",
        "       'Teenhome', 'Recency', 'NumDealsPurchases',\n",
        "       'NumWebPurchases', 'NumCatalogPurchases', 'NumStorePurchases',\n",
        "       'NumWebVisitsMonth', 'Dt_Customer_year']] = stdsc.transform(final_test[['Year_Birth', 'Income', 'Kidhome',\n",
        "       'Teenhome', 'Recency', 'NumDealsPurchases',\n",
        "       'NumWebPurchases', 'NumCatalogPurchases', 'NumStorePurchases',\n",
        "       'NumWebVisitsMonth', 'Dt_Customer_year']])"
      ],
      "metadata": {
        "id": "hAA1Tm65YwNV"
      },
      "execution_count": null,
      "outputs": []
    },
    {
      "cell_type": "markdown",
      "source": [
        "## 05-3. 모델에 넣어 예측 값 얻기"
      ],
      "metadata": {
        "id": "2mzhNfRqXwSk"
      }
    },
    {
      "cell_type": "code",
      "source": [
        "submission_predictions = slr.predict(final_test)\n",
        "\n",
        "prediction_file = pd.DataFrame({'id' : final_id,\n",
        "                               'target' : submission_predictions})\n",
        "prediction_file.head(6)"
      ],
      "metadata": {
        "colab": {
          "base_uri": "https://localhost:8080/",
          "height": 235
        },
        "id": "VIyCV8ZnX0j1",
        "outputId": "3d55fb2f-ddfe-49b7-a930-385f06d089af"
      },
      "execution_count": null,
      "outputs": [
        {
          "output_type": "execute_result",
          "data": {
            "text/plain": [
              "   id       target\n",
              "0   0   503.553526\n",
              "1   1  1276.314362\n",
              "2   2  1124.373483\n",
              "3   3   -35.612311\n",
              "4   4   580.239330\n",
              "5   5   531.972490"
            ],
            "text/html": [
              "\n",
              "  <div id=\"df-b584cb85-0992-4981-80ea-e754d89d535b\">\n",
              "    <div class=\"colab-df-container\">\n",
              "      <div>\n",
              "<style scoped>\n",
              "    .dataframe tbody tr th:only-of-type {\n",
              "        vertical-align: middle;\n",
              "    }\n",
              "\n",
              "    .dataframe tbody tr th {\n",
              "        vertical-align: top;\n",
              "    }\n",
              "\n",
              "    .dataframe thead th {\n",
              "        text-align: right;\n",
              "    }\n",
              "</style>\n",
              "<table border=\"1\" class=\"dataframe\">\n",
              "  <thead>\n",
              "    <tr style=\"text-align: right;\">\n",
              "      <th></th>\n",
              "      <th>id</th>\n",
              "      <th>target</th>\n",
              "    </tr>\n",
              "  </thead>\n",
              "  <tbody>\n",
              "    <tr>\n",
              "      <th>0</th>\n",
              "      <td>0</td>\n",
              "      <td>503.553526</td>\n",
              "    </tr>\n",
              "    <tr>\n",
              "      <th>1</th>\n",
              "      <td>1</td>\n",
              "      <td>1276.314362</td>\n",
              "    </tr>\n",
              "    <tr>\n",
              "      <th>2</th>\n",
              "      <td>2</td>\n",
              "      <td>1124.373483</td>\n",
              "    </tr>\n",
              "    <tr>\n",
              "      <th>3</th>\n",
              "      <td>3</td>\n",
              "      <td>-35.612311</td>\n",
              "    </tr>\n",
              "    <tr>\n",
              "      <th>4</th>\n",
              "      <td>4</td>\n",
              "      <td>580.239330</td>\n",
              "    </tr>\n",
              "    <tr>\n",
              "      <th>5</th>\n",
              "      <td>5</td>\n",
              "      <td>531.972490</td>\n",
              "    </tr>\n",
              "  </tbody>\n",
              "</table>\n",
              "</div>\n",
              "      <button class=\"colab-df-convert\" onclick=\"convertToInteractive('df-b584cb85-0992-4981-80ea-e754d89d535b')\"\n",
              "              title=\"Convert this dataframe to an interactive table.\"\n",
              "              style=\"display:none;\">\n",
              "        \n",
              "  <svg xmlns=\"http://www.w3.org/2000/svg\" height=\"24px\"viewBox=\"0 0 24 24\"\n",
              "       width=\"24px\">\n",
              "    <path d=\"M0 0h24v24H0V0z\" fill=\"none\"/>\n",
              "    <path d=\"M18.56 5.44l.94 2.06.94-2.06 2.06-.94-2.06-.94-.94-2.06-.94 2.06-2.06.94zm-11 1L8.5 8.5l.94-2.06 2.06-.94-2.06-.94L8.5 2.5l-.94 2.06-2.06.94zm10 10l.94 2.06.94-2.06 2.06-.94-2.06-.94-.94-2.06-.94 2.06-2.06.94z\"/><path d=\"M17.41 7.96l-1.37-1.37c-.4-.4-.92-.59-1.43-.59-.52 0-1.04.2-1.43.59L10.3 9.45l-7.72 7.72c-.78.78-.78 2.05 0 2.83L4 21.41c.39.39.9.59 1.41.59.51 0 1.02-.2 1.41-.59l7.78-7.78 2.81-2.81c.8-.78.8-2.07 0-2.86zM5.41 20L4 18.59l7.72-7.72 1.47 1.35L5.41 20z\"/>\n",
              "  </svg>\n",
              "      </button>\n",
              "      \n",
              "  <style>\n",
              "    .colab-df-container {\n",
              "      display:flex;\n",
              "      flex-wrap:wrap;\n",
              "      gap: 12px;\n",
              "    }\n",
              "\n",
              "    .colab-df-convert {\n",
              "      background-color: #E8F0FE;\n",
              "      border: none;\n",
              "      border-radius: 50%;\n",
              "      cursor: pointer;\n",
              "      display: none;\n",
              "      fill: #1967D2;\n",
              "      height: 32px;\n",
              "      padding: 0 0 0 0;\n",
              "      width: 32px;\n",
              "    }\n",
              "\n",
              "    .colab-df-convert:hover {\n",
              "      background-color: #E2EBFA;\n",
              "      box-shadow: 0px 1px 2px rgba(60, 64, 67, 0.3), 0px 1px 3px 1px rgba(60, 64, 67, 0.15);\n",
              "      fill: #174EA6;\n",
              "    }\n",
              "\n",
              "    [theme=dark] .colab-df-convert {\n",
              "      background-color: #3B4455;\n",
              "      fill: #D2E3FC;\n",
              "    }\n",
              "\n",
              "    [theme=dark] .colab-df-convert:hover {\n",
              "      background-color: #434B5C;\n",
              "      box-shadow: 0px 1px 3px 1px rgba(0, 0, 0, 0.15);\n",
              "      filter: drop-shadow(0px 1px 2px rgba(0, 0, 0, 0.3));\n",
              "      fill: #FFFFFF;\n",
              "    }\n",
              "  </style>\n",
              "\n",
              "      <script>\n",
              "        const buttonEl =\n",
              "          document.querySelector('#df-b584cb85-0992-4981-80ea-e754d89d535b button.colab-df-convert');\n",
              "        buttonEl.style.display =\n",
              "          google.colab.kernel.accessAllowed ? 'block' : 'none';\n",
              "\n",
              "        async function convertToInteractive(key) {\n",
              "          const element = document.querySelector('#df-b584cb85-0992-4981-80ea-e754d89d535b');\n",
              "          const dataTable =\n",
              "            await google.colab.kernel.invokeFunction('convertToInteractive',\n",
              "                                                     [key], {});\n",
              "          if (!dataTable) return;\n",
              "\n",
              "          const docLinkHtml = 'Like what you see? Visit the ' +\n",
              "            '<a target=\"_blank\" href=https://colab.research.google.com/notebooks/data_table.ipynb>data table notebook</a>'\n",
              "            + ' to learn more about interactive tables.';\n",
              "          element.innerHTML = '';\n",
              "          dataTable['output_type'] = 'display_data';\n",
              "          await google.colab.output.renderOutput(dataTable, element);\n",
              "          const docLink = document.createElement('div');\n",
              "          docLink.innerHTML = docLinkHtml;\n",
              "          element.appendChild(docLink);\n",
              "        }\n",
              "      </script>\n",
              "    </div>\n",
              "  </div>\n",
              "  "
            ]
          },
          "metadata": {},
          "execution_count": 73
        }
      ]
    },
    {
      "cell_type": "code",
      "source": [
        "prediction_file.to_csv('소비 예측 경진대회.csv', index = False)"
      ],
      "metadata": {
        "id": "5qC6DsuQZ5br"
      },
      "execution_count": null,
      "outputs": []
    },
    {
      "cell_type": "code",
      "source": [
        ""
      ],
      "metadata": {
        "id": "2BATZJFXaALN"
      },
      "execution_count": null,
      "outputs": []
    }
  ]
}